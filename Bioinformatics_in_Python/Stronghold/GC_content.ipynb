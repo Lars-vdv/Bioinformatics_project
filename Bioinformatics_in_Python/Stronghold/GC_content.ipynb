{
 "cells": [
  {
   "cell_type": "code",
   "execution_count": 1,
   "id": "91c0917a",
   "metadata": {},
   "outputs": [
    {
     "name": "stdout",
     "output_type": "stream",
     "text": [
      "GAAATACCATCACCTTAAGAGTGCTTCTATGCAATGCACGCCTATAAGGCTATTGCTTCAATATAAAAGGCAGGGGGGAAGCCTGAAGTAGCCTCTTGGT\n",
      "\u001b[31mA\u001b[0m\u001b[0m:\u001b[0m\u001b[0m3\u001b[0m\u001b[0m0\u001b[0m\u001b[0m \u001b[0m\u001b[0m \u001b[0m\u001b[12mC\u001b[0m\u001b[0m:\u001b[0m\u001b[0m2\u001b[0m\u001b[0m1\u001b[0m\u001b[0m \u001b[0m\u001b[0m \u001b[0m\u001b[33mG\u001b[0m\u001b[0m:\u001b[0m\u001b[0m2\u001b[0m\u001b[0m4\u001b[0m\u001b[0m \u001b[0m\u001b[0m \u001b[0m\u001b[32mT\u001b[0m\u001b[0m:\u001b[0m\u001b[0m2\u001b[0m\u001b[0m5\u001b[0m\n",
      "GAAAUACCAUCACCUUAAGAGUGCUUCUAUGCAAUGCACGCCUAUAAGGCUAUUGCUUCAAUAUAAAAGGCAGGGGGGAAGCCUGAAGUAGCCUCUUGGU\n",
      "CTTTATGGTAGTGGAATTCTCACGAAGATACGTTACGTGCGGATATTCCGATAACGAAGTTATATTTTCCGTCCCCCCTTCGGACTTCATCGGAGAACCA\n",
      "ACCAAGAGGCTACTTCAGGCTTCCCCCCTGCCTTTTATATTGAAGCAATAGCCTTATAGGCGTGCATTGCATAGAAGCACTCTTAAGGTGATGGTATTTC\n",
      "DNA sequence: GAAATACCATCACCTTAAGAGTGCTTCTATGCAATGCACGCCTATAAGGCTATTGCTTCAATATAAAAGGCAGGGGGGAAGCCTGAAGTAGCCTCTTGGT\n",
      "\n",
      "Complement DNA sequence: CTTTATGGTAGTGGAATTCTCACGAAGATACGTTACGTGCGGATATTCCGATAACGAAGTTATATTTTCCGTCCCCCCTTCGGACTTCATCGGAGAACCA\n",
      "\n",
      "Reverse complement DNA sequence: ACCAAGAGGCTACTTCAGGCTTCCCCCCTGCCTTTTATATTGAAGCAATAGCCTTATAGGCGTGCATTGCATAGAAGCACTCTTAAGGTGATGGTATTTC\n",
      "\n",
      "RNA transcript of DNA: UGGUUCUCCGAUGAAGUCCGAAGGGGGGACGGAAAAUAUAACUUCGUUAUCGGAAUAUCCGCACGUAACGUAUCUUCGUGAGAAUUCCACUACCAUAAAG\n",
      "\n",
      "RNA transcript of complement DNA: GAAAUACCAUCACCUUAAGAGUGCUUCUAUGCAAUGCACGCCUAUAAGGCUAUUGCUUCAAUAUAAAAGGCAGGGGGGAAGCCUGAAGUAGCCUCUUGGU\n",
      "\n",
      "DNA sequence: \u001b[33mG\u001b[0m\u001b[31mA\u001b[0m\u001b[31mA\u001b[0m\u001b[31mA\u001b[0m\u001b[32mT\u001b[0m\u001b[31mA\u001b[0m\u001b[12mC\u001b[0m\u001b[12mC\u001b[0m\u001b[31mA\u001b[0m\u001b[32mT\u001b[0m\u001b[12mC\u001b[0m\u001b[31mA\u001b[0m\u001b[12mC\u001b[0m\u001b[12mC\u001b[0m\u001b[32mT\u001b[0m\u001b[32mT\u001b[0m\u001b[31mA\u001b[0m\u001b[31mA\u001b[0m\u001b[33mG\u001b[0m\u001b[31mA\u001b[0m\u001b[33mG\u001b[0m\u001b[32mT\u001b[0m\u001b[33mG\u001b[0m\u001b[12mC\u001b[0m\u001b[32mT\u001b[0m\u001b[32mT\u001b[0m\u001b[12mC\u001b[0m\u001b[32mT\u001b[0m\u001b[31mA\u001b[0m\u001b[32mT\u001b[0m\u001b[33mG\u001b[0m\u001b[12mC\u001b[0m\u001b[31mA\u001b[0m\u001b[31mA\u001b[0m\u001b[32mT\u001b[0m\u001b[33mG\u001b[0m\u001b[12mC\u001b[0m\u001b[31mA\u001b[0m\u001b[12mC\u001b[0m\u001b[33mG\u001b[0m\u001b[12mC\u001b[0m\u001b[12mC\u001b[0m\u001b[32mT\u001b[0m\u001b[31mA\u001b[0m\u001b[32mT\u001b[0m\u001b[31mA\u001b[0m\u001b[31mA\u001b[0m\u001b[33mG\u001b[0m\u001b[33mG\u001b[0m\u001b[12mC\u001b[0m\u001b[32mT\u001b[0m\u001b[31mA\u001b[0m\u001b[32mT\u001b[0m\u001b[32mT\u001b[0m\u001b[33mG\u001b[0m\u001b[12mC\u001b[0m\u001b[32mT\u001b[0m\u001b[32mT\u001b[0m\u001b[12mC\u001b[0m\u001b[31mA\u001b[0m\u001b[31mA\u001b[0m\u001b[32mT\u001b[0m\u001b[31mA\u001b[0m\u001b[32mT\u001b[0m\u001b[31mA\u001b[0m\u001b[31mA\u001b[0m\u001b[31mA\u001b[0m\u001b[31mA\u001b[0m\u001b[33mG\u001b[0m\u001b[33mG\u001b[0m\u001b[12mC\u001b[0m\u001b[31mA\u001b[0m\u001b[33mG\u001b[0m\u001b[33mG\u001b[0m\u001b[33mG\u001b[0m\u001b[33mG\u001b[0m\u001b[33mG\u001b[0m\u001b[33mG\u001b[0m\u001b[31mA\u001b[0m\u001b[31mA\u001b[0m\u001b[33mG\u001b[0m\u001b[12mC\u001b[0m\u001b[12mC\u001b[0m\u001b[32mT\u001b[0m\u001b[33mG\u001b[0m\u001b[31mA\u001b[0m\u001b[31mA\u001b[0m\u001b[33mG\u001b[0m\u001b[32mT\u001b[0m\u001b[31mA\u001b[0m\u001b[33mG\u001b[0m\u001b[12mC\u001b[0m\u001b[12mC\u001b[0m\u001b[32mT\u001b[0m\u001b[12mC\u001b[0m\u001b[32mT\u001b[0m\u001b[32mT\u001b[0m\u001b[33mG\u001b[0m\u001b[33mG\u001b[0m\u001b[32mT\u001b[0m\n",
      "\n",
      "Complement DNA sequence: \u001b[12mC\u001b[0m\u001b[32mT\u001b[0m\u001b[32mT\u001b[0m\u001b[32mT\u001b[0m\u001b[31mA\u001b[0m\u001b[32mT\u001b[0m\u001b[33mG\u001b[0m\u001b[33mG\u001b[0m\u001b[32mT\u001b[0m\u001b[31mA\u001b[0m\u001b[33mG\u001b[0m\u001b[32mT\u001b[0m\u001b[33mG\u001b[0m\u001b[33mG\u001b[0m\u001b[31mA\u001b[0m\u001b[31mA\u001b[0m\u001b[32mT\u001b[0m\u001b[32mT\u001b[0m\u001b[12mC\u001b[0m\u001b[32mT\u001b[0m\u001b[12mC\u001b[0m\u001b[31mA\u001b[0m\u001b[12mC\u001b[0m\u001b[33mG\u001b[0m\u001b[31mA\u001b[0m\u001b[31mA\u001b[0m\u001b[33mG\u001b[0m\u001b[31mA\u001b[0m\u001b[32mT\u001b[0m\u001b[31mA\u001b[0m\u001b[12mC\u001b[0m\u001b[33mG\u001b[0m\u001b[32mT\u001b[0m\u001b[32mT\u001b[0m\u001b[31mA\u001b[0m\u001b[12mC\u001b[0m\u001b[33mG\u001b[0m\u001b[32mT\u001b[0m\u001b[33mG\u001b[0m\u001b[12mC\u001b[0m\u001b[33mG\u001b[0m\u001b[33mG\u001b[0m\u001b[31mA\u001b[0m\u001b[32mT\u001b[0m\u001b[31mA\u001b[0m\u001b[32mT\u001b[0m\u001b[32mT\u001b[0m\u001b[12mC\u001b[0m\u001b[12mC\u001b[0m\u001b[33mG\u001b[0m\u001b[31mA\u001b[0m\u001b[32mT\u001b[0m\u001b[31mA\u001b[0m\u001b[31mA\u001b[0m\u001b[12mC\u001b[0m\u001b[33mG\u001b[0m\u001b[31mA\u001b[0m\u001b[31mA\u001b[0m\u001b[33mG\u001b[0m\u001b[32mT\u001b[0m\u001b[32mT\u001b[0m\u001b[31mA\u001b[0m\u001b[32mT\u001b[0m\u001b[31mA\u001b[0m\u001b[32mT\u001b[0m\u001b[32mT\u001b[0m\u001b[32mT\u001b[0m\u001b[32mT\u001b[0m\u001b[12mC\u001b[0m\u001b[12mC\u001b[0m\u001b[33mG\u001b[0m\u001b[32mT\u001b[0m\u001b[12mC\u001b[0m\u001b[12mC\u001b[0m\u001b[12mC\u001b[0m\u001b[12mC\u001b[0m\u001b[12mC\u001b[0m\u001b[12mC\u001b[0m\u001b[32mT\u001b[0m\u001b[32mT\u001b[0m\u001b[12mC\u001b[0m\u001b[33mG\u001b[0m\u001b[33mG\u001b[0m\u001b[31mA\u001b[0m\u001b[12mC\u001b[0m\u001b[32mT\u001b[0m\u001b[32mT\u001b[0m\u001b[12mC\u001b[0m\u001b[31mA\u001b[0m\u001b[32mT\u001b[0m\u001b[12mC\u001b[0m\u001b[33mG\u001b[0m\u001b[33mG\u001b[0m\u001b[31mA\u001b[0m\u001b[33mG\u001b[0m\u001b[31mA\u001b[0m\u001b[31mA\u001b[0m\u001b[12mC\u001b[0m\u001b[12mC\u001b[0m\u001b[31mA\u001b[0m\n",
      "\n",
      "Reverse complement DNA sequence: \u001b[31mA\u001b[0m\u001b[12mC\u001b[0m\u001b[12mC\u001b[0m\u001b[31mA\u001b[0m\u001b[31mA\u001b[0m\u001b[33mG\u001b[0m\u001b[31mA\u001b[0m\u001b[33mG\u001b[0m\u001b[33mG\u001b[0m\u001b[12mC\u001b[0m\u001b[32mT\u001b[0m\u001b[31mA\u001b[0m\u001b[12mC\u001b[0m\u001b[32mT\u001b[0m\u001b[32mT\u001b[0m\u001b[12mC\u001b[0m\u001b[31mA\u001b[0m\u001b[33mG\u001b[0m\u001b[33mG\u001b[0m\u001b[12mC\u001b[0m\u001b[32mT\u001b[0m\u001b[32mT\u001b[0m\u001b[12mC\u001b[0m\u001b[12mC\u001b[0m\u001b[12mC\u001b[0m\u001b[12mC\u001b[0m\u001b[12mC\u001b[0m\u001b[12mC\u001b[0m\u001b[32mT\u001b[0m\u001b[33mG\u001b[0m\u001b[12mC\u001b[0m\u001b[12mC\u001b[0m\u001b[32mT\u001b[0m\u001b[32mT\u001b[0m\u001b[32mT\u001b[0m\u001b[32mT\u001b[0m\u001b[31mA\u001b[0m\u001b[32mT\u001b[0m\u001b[31mA\u001b[0m\u001b[32mT\u001b[0m\u001b[32mT\u001b[0m\u001b[33mG\u001b[0m\u001b[31mA\u001b[0m\u001b[31mA\u001b[0m\u001b[33mG\u001b[0m\u001b[12mC\u001b[0m\u001b[31mA\u001b[0m\u001b[31mA\u001b[0m\u001b[32mT\u001b[0m\u001b[31mA\u001b[0m\u001b[33mG\u001b[0m\u001b[12mC\u001b[0m\u001b[12mC\u001b[0m\u001b[32mT\u001b[0m\u001b[32mT\u001b[0m\u001b[31mA\u001b[0m\u001b[32mT\u001b[0m\u001b[31mA\u001b[0m\u001b[33mG\u001b[0m\u001b[33mG\u001b[0m\u001b[12mC\u001b[0m\u001b[33mG\u001b[0m\u001b[32mT\u001b[0m\u001b[33mG\u001b[0m\u001b[12mC\u001b[0m\u001b[31mA\u001b[0m\u001b[32mT\u001b[0m\u001b[32mT\u001b[0m\u001b[33mG\u001b[0m\u001b[12mC\u001b[0m\u001b[31mA\u001b[0m\u001b[32mT\u001b[0m\u001b[31mA\u001b[0m\u001b[33mG\u001b[0m\u001b[31mA\u001b[0m\u001b[31mA\u001b[0m\u001b[33mG\u001b[0m\u001b[12mC\u001b[0m\u001b[31mA\u001b[0m\u001b[12mC\u001b[0m\u001b[32mT\u001b[0m\u001b[12mC\u001b[0m\u001b[32mT\u001b[0m\u001b[32mT\u001b[0m\u001b[31mA\u001b[0m\u001b[31mA\u001b[0m\u001b[33mG\u001b[0m\u001b[33mG\u001b[0m\u001b[32mT\u001b[0m\u001b[33mG\u001b[0m\u001b[31mA\u001b[0m\u001b[32mT\u001b[0m\u001b[33mG\u001b[0m\u001b[33mG\u001b[0m\u001b[32mT\u001b[0m\u001b[31mA\u001b[0m\u001b[32mT\u001b[0m\u001b[32mT\u001b[0m\u001b[32mT\u001b[0m\u001b[12mC\u001b[0m\n",
      "\n",
      "RNA transcript of DNA: \u001b[35mU\u001b[0m\u001b[33mG\u001b[0m\u001b[33mG\u001b[0m\u001b[35mU\u001b[0m\u001b[35mU\u001b[0m\u001b[12mC\u001b[0m\u001b[35mU\u001b[0m\u001b[12mC\u001b[0m\u001b[12mC\u001b[0m\u001b[33mG\u001b[0m\u001b[31mA\u001b[0m\u001b[35mU\u001b[0m\u001b[33mG\u001b[0m\u001b[31mA\u001b[0m\u001b[31mA\u001b[0m\u001b[33mG\u001b[0m\u001b[35mU\u001b[0m\u001b[12mC\u001b[0m\u001b[12mC\u001b[0m\u001b[33mG\u001b[0m\u001b[31mA\u001b[0m\u001b[31mA\u001b[0m\u001b[33mG\u001b[0m\u001b[33mG\u001b[0m\u001b[33mG\u001b[0m\u001b[33mG\u001b[0m\u001b[33mG\u001b[0m\u001b[33mG\u001b[0m\u001b[31mA\u001b[0m\u001b[12mC\u001b[0m\u001b[33mG\u001b[0m\u001b[33mG\u001b[0m\u001b[31mA\u001b[0m\u001b[31mA\u001b[0m\u001b[31mA\u001b[0m\u001b[31mA\u001b[0m\u001b[35mU\u001b[0m\u001b[31mA\u001b[0m\u001b[35mU\u001b[0m\u001b[31mA\u001b[0m\u001b[31mA\u001b[0m\u001b[12mC\u001b[0m\u001b[35mU\u001b[0m\u001b[35mU\u001b[0m\u001b[12mC\u001b[0m\u001b[33mG\u001b[0m\u001b[35mU\u001b[0m\u001b[35mU\u001b[0m\u001b[31mA\u001b[0m\u001b[35mU\u001b[0m\u001b[12mC\u001b[0m\u001b[33mG\u001b[0m\u001b[33mG\u001b[0m\u001b[31mA\u001b[0m\u001b[31mA\u001b[0m\u001b[35mU\u001b[0m\u001b[31mA\u001b[0m\u001b[35mU\u001b[0m\u001b[12mC\u001b[0m\u001b[12mC\u001b[0m\u001b[33mG\u001b[0m\u001b[12mC\u001b[0m\u001b[31mA\u001b[0m\u001b[12mC\u001b[0m\u001b[33mG\u001b[0m\u001b[35mU\u001b[0m\u001b[31mA\u001b[0m\u001b[31mA\u001b[0m\u001b[12mC\u001b[0m\u001b[33mG\u001b[0m\u001b[35mU\u001b[0m\u001b[31mA\u001b[0m\u001b[35mU\u001b[0m\u001b[12mC\u001b[0m\u001b[35mU\u001b[0m\u001b[35mU\u001b[0m\u001b[12mC\u001b[0m\u001b[33mG\u001b[0m\u001b[35mU\u001b[0m\u001b[33mG\u001b[0m\u001b[31mA\u001b[0m\u001b[33mG\u001b[0m\u001b[31mA\u001b[0m\u001b[31mA\u001b[0m\u001b[35mU\u001b[0m\u001b[35mU\u001b[0m\u001b[12mC\u001b[0m\u001b[12mC\u001b[0m\u001b[31mA\u001b[0m\u001b[12mC\u001b[0m\u001b[35mU\u001b[0m\u001b[31mA\u001b[0m\u001b[12mC\u001b[0m\u001b[12mC\u001b[0m\u001b[31mA\u001b[0m\u001b[35mU\u001b[0m\u001b[31mA\u001b[0m\u001b[31mA\u001b[0m\u001b[31mA\u001b[0m\u001b[33mG\u001b[0m\n",
      "\n",
      "RNA transcript of complement DNA: \u001b[33mG\u001b[0m\u001b[31mA\u001b[0m\u001b[31mA\u001b[0m\u001b[31mA\u001b[0m\u001b[35mU\u001b[0m\u001b[31mA\u001b[0m\u001b[12mC\u001b[0m\u001b[12mC\u001b[0m\u001b[31mA\u001b[0m\u001b[35mU\u001b[0m\u001b[12mC\u001b[0m\u001b[31mA\u001b[0m\u001b[12mC\u001b[0m\u001b[12mC\u001b[0m\u001b[35mU\u001b[0m\u001b[35mU\u001b[0m\u001b[31mA\u001b[0m\u001b[31mA\u001b[0m\u001b[33mG\u001b[0m\u001b[31mA\u001b[0m\u001b[33mG\u001b[0m\u001b[35mU\u001b[0m\u001b[33mG\u001b[0m\u001b[12mC\u001b[0m\u001b[35mU\u001b[0m\u001b[35mU\u001b[0m\u001b[12mC\u001b[0m\u001b[35mU\u001b[0m\u001b[31mA\u001b[0m\u001b[35mU\u001b[0m\u001b[33mG\u001b[0m\u001b[12mC\u001b[0m\u001b[31mA\u001b[0m\u001b[31mA\u001b[0m\u001b[35mU\u001b[0m\u001b[33mG\u001b[0m\u001b[12mC\u001b[0m\u001b[31mA\u001b[0m\u001b[12mC\u001b[0m\u001b[33mG\u001b[0m\u001b[12mC\u001b[0m\u001b[12mC\u001b[0m\u001b[35mU\u001b[0m\u001b[31mA\u001b[0m\u001b[35mU\u001b[0m\u001b[31mA\u001b[0m\u001b[31mA\u001b[0m\u001b[33mG\u001b[0m\u001b[33mG\u001b[0m\u001b[12mC\u001b[0m\u001b[35mU\u001b[0m\u001b[31mA\u001b[0m\u001b[35mU\u001b[0m\u001b[35mU\u001b[0m\u001b[33mG\u001b[0m\u001b[12mC\u001b[0m\u001b[35mU\u001b[0m\u001b[35mU\u001b[0m\u001b[12mC\u001b[0m\u001b[31mA\u001b[0m\u001b[31mA\u001b[0m\u001b[35mU\u001b[0m\u001b[31mA\u001b[0m\u001b[35mU\u001b[0m\u001b[31mA\u001b[0m\u001b[31mA\u001b[0m\u001b[31mA\u001b[0m\u001b[31mA\u001b[0m\u001b[33mG\u001b[0m\u001b[33mG\u001b[0m\u001b[12mC\u001b[0m\u001b[31mA\u001b[0m\u001b[33mG\u001b[0m\u001b[33mG\u001b[0m\u001b[33mG\u001b[0m\u001b[33mG\u001b[0m\u001b[33mG\u001b[0m\u001b[33mG\u001b[0m\u001b[31mA\u001b[0m\u001b[31mA\u001b[0m\u001b[33mG\u001b[0m\u001b[12mC\u001b[0m\u001b[12mC\u001b[0m\u001b[35mU\u001b[0m\u001b[33mG\u001b[0m\u001b[31mA\u001b[0m\u001b[31mA\u001b[0m\u001b[33mG\u001b[0m\u001b[35mU\u001b[0m\u001b[31mA\u001b[0m\u001b[33mG\u001b[0m\u001b[12mC\u001b[0m\u001b[12mC\u001b[0m\u001b[35mU\u001b[0m\u001b[12mC\u001b[0m\u001b[35mU\u001b[0m\u001b[35mU\u001b[0m\u001b[33mG\u001b[0m\u001b[33mG\u001b[0m\u001b[35mU\u001b[0m\n",
      "\n",
      "\n"
     ]
    }
   ],
   "source": [
    "from Bioinformatics_in_Python.DNAToolkit import *\n",
    "import math"
   ]
  },
  {
   "cell_type": "code",
   "execution_count": 2,
   "id": "892a7a3f",
   "metadata": {},
   "outputs": [],
   "source": [
    "from Bioinformatics_in_Python.utilities import read_file"
   ]
  },
  {
   "cell_type": "code",
   "execution_count": null,
   "id": "65524f2d-1c07-4289-82ae-92e6def14a49",
   "metadata": {},
   "outputs": [],
   "source": [
    "def gc_content_subsec(seq, k=20):\n",
    "    \"\"\"\n",
    "    Return a list of GC% strings for each non-overlapping k-mer.\n",
    "    \"\"\"\n",
    "    #return [....] creates list\n",
    "    #[expression for variable in iterable]\n",
    "    return [\n",
    "        gc_content(seq[i : i + k]) #seq[start : end], When there are no more i values in the range, the loop ends.\n",
    "        for i in range(0, len(seq) - k + 1, k) #range(start, stop, step)\n",
    "        # range start=0, stop=len(seq)-k+1 ensures full windows only, step=k, +1 is needed because python excludes stop index \n",
    "        #len(seq) - k is the highest starting index that still leaves k-amount characters to slice.\n",
    "    ]\n",
    "\n",
    "gc_content_subsec(dna_seq,k=10)"
   ]
  },
  {
   "cell_type": "code",
   "execution_count": null,
   "id": "3b280ca5",
   "metadata": {},
   "outputs": [],
   "source": [
    "maxGCkey = max(GC_dict, key=GC_dict.get) #max() returns the key with the highest value in GC_dict, key=GC_dict.get tells max() to use the values of GC_dict to compare\n",
    "print(f\"The sequence with the highest GC content is {maxGCkey} with a GC content of {GC_dict[maxGCkey]}%\") #f-string to format the output\n",
    "minGCkey = min(GC_dict, key=GC_dict.get) #min() returns the key with the lowest value in GC_dict, key=GC_dict.get tells min() to use the values of GC_dict to compare\n",
    "print(f\"The sequence with the lowest GC content is {minGCkey} with a GC content of {GC_dict[minGCkey]}%\") #f-string to format the output\n",
    "#max() and min() return the key with the highest/lowest value in GC_dict,"
   ]
  },
  {
   "cell_type": "code",
   "execution_count": null,
   "id": "94d4b041",
   "metadata": {},
   "outputs": [],
   "source": [
    "print(f\"{maxGCkey}\\n{GC_dict[maxGCkey]}\")\n",
    "\n",
    "#rosalinf results\n",
    "print(f\"{maxGCkey[1:]}\\n{GC_dict[maxGCkey]}\")"
   ]
  },
  {
   "cell_type": "code",
   "execution_count": 30,
   "id": "12bebf05",
   "metadata": {},
   "outputs": [],
   "source": [
    "temp = read_file(\"test_data/rosalind_gc.txt\") "
   ]
  },
  {
   "cell_type": "code",
   "execution_count": 31,
   "id": "07bb24b1",
   "metadata": {},
   "outputs": [
    {
     "name": "stdout",
     "output_type": "stream",
     "text": [
      "['>Rosalind_2302', 'TCCTTGCCAACTCAAGCCAATTTGATTTCGGGGTCGTCTCTGATAAGCTGGTGCGATCCC', 'CTTGTATGCGATAAAAGAATAATATGTTAGGCATTTTAACCCTCACGGTTATTTTTCTTC', 'GCCTGTGTAATTTTATCGGCTGTGACCCTACAGACACAACATCAACGAAGAATATAGTAT', 'AGCGCTCGGGGGTACCGCCGCAGCGGATTGCTGCTCCAGGCAATAAGCGTCATGGAAGAG', 'CTCTATGGGTGCTTCCTCCCCTCGGGACATAATGGCCGGAGTGCGACTGGATTCGCACAT', 'AGATCCTTATGGATGCCGCGACTCAGTGTATCACGTTCAAGGATGGTACGGGTTGAATGA', 'TCAGGGATATCAAACTCCAGGGCCATCCTGAATAGGATGTTGTGTGGACTATTTAGGGCC', 'GAGTACCGCATTAGGCCCCAATGGTTGTAAGTAGGCTTGTCGTCGAGATCAGAGACGACG', 'CTAATATGTTGGTCATGCAAGCTTAAGCGGACGTTACCGCTTTCGTCACCCCCGAACTAC', 'TATAGCATGGCGCACAGCCCCTGCTGCCGTCGTGCCCAGCAATGCTAATAACAGGCGACA', 'TAGTGATGTTCACATCGGACCTGTAACCGCCACATACACCGGATACGGATTGCTTCCTGT', 'CCCCCAGTGATCAACAACCACGCGCGCGGTAACGACTCCAGACGAGTACAAATACGGAAA', 'GGAATATGCAAGCGTTAACATCAAGTTTATGTATAGCCAGAGAATGAAAGTCGCAATCTA', 'TGTTAAATCACGGTAATAGACATTGCTAATGCGCCTGTCGCCTCGCATGCAATGACAATG', 'GCTTATTGTATCAACCC', '>Rosalind_1717', 'AATCTCCCGTACTAAGTCGTTGCTCTCGAATAGGTCTCCTCATGTGCGTTGGGTTTGTTC', 'TCCATTGAGGCTGATGATTAAATAATGGTCTAGTCTGGCCGGTTAGATTGGTATTACACC', 'CGGGGCGTGTCCGCAGCGCAGTATGTCTGAACCGACCCCGGGGAGTTCTGGTTGGGTTCT', 'ACCTTAATCATTCTCCCAATGTGGTTAGGCGAGGCCCGCGTAATAAAAGCGGTGTGGCCA', 'TTTAATGATAATCTGCACCAATCCAAAATCCCAACCGGATGTACGATCGGGCCTTATTTC', 'AGTAAGTACTCCGTTACTGCGAGATATTCATCTTTAACCGGGCTTGAAAGCGGTCCACGG', 'GGTCACACTGTCTAAAATCACTCGTCCCGAGTTATGCGGCCTGTCCCGGCAGCTGCCCAC', 'ATAAATACGATCGGGCTAGTGCACAGCCAAAGTATTACGGTTGTTACTCCCAAAACGGGT', 'AAGATGCATAGGATGATGCGAAAAGGTTGGTTAACACCCGATGAACAACATCAAGCTGAT', 'CGAGGCGTTCAAGTCGGAATGCGAGCGAAGAACCATGGTGCCTGTCCAAGCCGTCGGAAG', 'GAGCGTAGCGCCCAAGTTGCTTCAATCGCGTCCAGTCGGAACAGAATCAGAGATGTTAGA', 'ACTTATCCTGCATATTTGATTTTACTAATAGTTTGCCATTTCGTCTCCTTGCGCGCAACT', 'CCTTTGCGGGGCGCAGTCTAAATACTAAGATAATCCGTAATGTGCTATCCGGTTACCATC', 'TTTTTTGACAAGTTCATCACTATAAGGACACTCTAGACGACGTTCCGGCTAGTAGTTCCC', 'CCTCTATTCTAGCAAGTGAAGTGTCAAGACAGAGTGCGATGCGGCTGGTCAGAATTTAAC', 'GCACCGCAGGGGATTCATGACGCTATATACTGCGACGAACGGTAGCTCAG', '>Rosalind_5518', 'AGATCTATGTCTACGGCATGCGGCCTGCTAACGTACCGCTAATGTCAGAAGCTGGGTAAT', 'TGTTCTCGAAAGTCCAACTAAATGCTTCTATCGTAGAAACGGAGTATTCATTAAGATAAC', 'ACACACGTTTTCATACCGCTCCAAGATGTTAGCAGGTCGGGATTAGTCACTAAATGATTT', 'TGAGGATCCCCGTTAGTAAGATGCGTGGAGACAAAACCATACATATTCCCAGCTGTGATG', 'GGAACAGCGCCGGATGTAGTTAGGGGGCCCCATTTCTGCTCCACGTACCGTTTCAAACCA', 'CTGGTCCGGAGGATCAGGCCTTGTATGCCCACACGGCACAGTAGATCATTGACCCGGGTA', 'GATGTGAATCACGAAAGGCCCGGAGCTCTACCTTAGCAGCGAATACAGAATCAGAGTGAA', 'TTCGCAAAAACGGTCTTCATGCACCTCCCATGAGCCTGCATACCAGTGCTAAAGACTTTA', 'AACTTCTGCCCTTGTTGAGGACGTTGAGGATTGGCCTTCACAATTCTTCACAGCTTTCGA', 'CAACTCCGATCTGGCCCGCCCACATGGATCAGGAATACTTTAGCTTACACAAGTTGAAGG', 'GGTTCAAGAGAGGACTGATTCCCAGATTCGATACTTGGCTACATTATGATAGCGCATTGT', 'GCCGAATTCGACATACGGTCGTCTCTCCCCGTGAAACTGTAATTTGGGCCTCTACCGGTA', 'AAGTAGGGGCCGCGAGAGCGGATCTTCCCTTAGGTACTATTGATAGCCGAGAGAATCTCC', 'CTGCGTTCAAACACCGCTGACGAAGGTGTTACTGCTGGCACACCAAACCGTTGAAATCGG', 'AGGCAGTGATGATGCTCATTTCACAACTAGATGACCTACCTATTGCTTATAGATCTTTCT', 'ACCCTACTGG', '>Rosalind_8629', 'CAATATCTACCTGGAGGAAGCGTTAAGGACGTAATCGATCGACATGTAACAAATGACCTG', 'TAAACCGTTTTGTTGTGACACAATGCCCCAGAGATTTTAGGCAAGGGTTCCGGGGGATTT', 'ACCACCCTCTTTTGATAAACGAGCTAACCAGGTACGATGAAACCCGGAAGGTATCTGTTA', 'GTCTCAAATTAAAAGTGTAGACAGCCATTGGGGTGCGCGCTATAGGGACAGCACAGCCTC', 'TGTTGTGGGCACTACAACGAGGGTTTAATGCATTCGTACATGATGGCAGGGCTTCAGTTG', 'TCTAGTGACCTATGTATCTCGGCGTGAAACGCACTTGCTCGAGGCCGTAGTTTACATTCC', 'ATTGGTTCCGCTCAAGGTCGCGGGGTTCTTCTTTGACTCAGGTAGTCTCGATGCTATAGC', 'CTTTTTGTTATGCGATTCGATTCCCATTGACCACCAGTGAGGCGGCGACGCCACACACGA', 'ATATAATATCGCGCCCCCGCCATCATTGGGCCCGGGGCAACAAGGTCTCCTAGCACAGAG', 'CAGAGATGGAGATCTAATACTTGCCCCGTTGGTACATACGCCAACACGGCATTACGGGAG', 'ACTCTTACCGGTTACGTGGGCAGCAAGAGGTCAGAGAGCATTCATCCGTGTAGTCTTTGC', 'CCTACGATGATACACTTCAGACTTCCCAGGTACCGTCTAAATTGCTCGGGTGCGGGGCAA', 'TCTGCTGGAAGTTTATGCCAATGTTCCCACTGCACGAGGTTCTTAGGACGTGATCACAGA', 'GCTAAGAAACAAGCGCGGAAGAGGACCGCAACAGTACAAATAAAGTACAAGCATCATCTG', 'AAGCTACTATTGCAGAAGTCATGGATATCCTTCTTGCAAGCGG', '>Rosalind_6449', 'GGCCCGGACAGGGTGGACTTACCGTCTGCGTTCCGACATTAATCTACCTCACTAGCGATT', 'CCCACTGCCCGGCTTCCGGTCTTCGATCGGTATACGGACGAGCCGCGATAGACACTCACC', 'CTTTGGATGTGGGATGTTTTTTCCCAGTTCGTTGACTATTTCGCCCGTCAGTACGAGAAC', 'ACGGTAGGAGAGCATAGCGGTCTACAGGACCTGATCGACATGCACAGTCCGTTCGGGGCT', 'CCTCGTTCCCAAGACTCTGGAGTATCATTGGTTTTTTGCTTGAACCGCAGGCCTTGAATC', 'TGTGCGCTATTCTTAAGAAGGGCTCCAGCTAGTCGAAGGTAATCGTCGCCGGCCGTCGGT', 'CTCGCTACGGCTCGGGCCCAACACGTAAAAGTGCTCCACGATACGCCATAGTCCAATCGC', 'CACTTAGCCCGATGTAGGGTGGACTAAAGGGTTCAATCCCAAACCTAGCTGACATGACGT', 'ACGCGGGTGCGCATCCGCTAGCAAATTTGGTTCAGTCGAAAGGCACTACTAAAGGTCGTC', 'ACCTTAACTGGGTTCCATACTACTAGACATTTGAGAGAATGCGGCGCACTAGCTGGGTGC', 'ATCAATTATCGCCTGACGGAACCCCATACTGTCGCAATACCGGAATCGATCAGCCGCAAG', 'GTCTCAGAGGACTAAGCCAACAGCGGTACATCCGTAGCATTTTATACCTATAAGTCCACA', 'TAGCAAGTAGCAAACATGAGTTGTATACGGGGGAGTACAACTTTCACAAAACAAGGGCTC', 'GCTTATACTTCTACAATGGGAGGCAAGACAGG', '>Rosalind_9654', 'GCTGACTGTATTCTCCCGACCAAACAGTATCCCAGACTTCTTTTGTTCCAATACGATTGT', 'TCCAATCGTGCTGTAACCTTAGGACGGCCGTGCACACAAGACATGCGAGCATTAGCATAA', 'AGCGGCTCCAGGAGTCCGGTATCTCTGTGGGTGCCACTTCCCTTACTCCCACTAAGGGAG', 'CGTAAGGACTACTAGCCTCTGTCTGGCCGTGGCGTCTGGGGATGCCGGTTGACTTAGACA', 'ATTTCGAACTTGTTGTGCATCCAATAGGAGTCGAGAAGGATACGCATTTACTGCGTGAAT', 'GGTGACATCCTGTTAACCAGAGTCCGAAACTCCTTTTAACGCCTCGATACGAATTATTTT', 'TCTTGATCGCAGTCGCCCCGTCACTTACTCATTGGGTAGTCCGCCAAACTTTCTAGATTA', 'TGCTCCCGAGACTCGTTAACACTTCACACGGCGAGAAGTGTACTAATGTTCCATTCATAG', 'GTCGAGGAAGTATGGGCCCTGGCGGAGACGCGGGTCGGTAAGGGCGCGCCAAAAGATGAT', 'AGGTAAAAACGGTTACGACTCAGCCGAATCATGTATCTGCCCGGATTTCACACGAAACGT', 'AAAAGTTTATGTCGGGCTACACGTATAAGGGGTGCCCTTGGGACGTGACAGGTGTCCCCT', 'GCACAGCTCAGAGCTTTCAGAGCGGGGTAGTATAGTTTACGTCCGAAGATGTGGCGCAGC', 'CAGGCACGAACACTAGACCCATCGTTCAATCCCCGAAGCTGTAGGAATAACCGACGATGT', 'GGCTCGTACCCGACGTCCTATATCAGTTCGCGTAGGGAAAGGATGGGCGAGTTGATG', '>Rosalind_5068', 'CGGAGCTCTGATTGCTATGGACTTATCCTACGTCCGTAATCTAGAGTAGGTCGCCCGACT', 'TATAGTATAGACCTTAGAAGCTAACCACCGTCATGAGAGCTTAAGTCCGCAAAGATGCGT', 'GGCTTACGATGTTCTGGGATCCGATACAGAACTCCTGAGCGAGTCAAGTCCGAATGGGAA', 'AACGAATATCCCTGTGCTTCCACGGGTAGATAGAGTCTATTATCCTGTTCCTTTAGTTTT', 'CATTTGCCCCCATCGCAGACCATCCATCGTGGAGCTGGTGTGCCATTGGTATCCCGTATC', 'AACATCTTGGATCAAAACGACATCGGCGGTGCCGGGTGGCCATGGGTTGCAGTTTTTGGT', 'CAAATTAGCTACAGTAGTGAAAAGGGGCTCGTGAGCGCTCCGAAGAGCTCAATTACTGTT', 'ATTCTTTATACTAAATAGGCCACCTCCTGAGACCCGAATCTCCCTATGGATCGATCATGC', 'GCTAGTACGGGTTATGCAGGGGCTCATAAACGGTTTAGGAACATTAAAGCCCTGCGGACT', 'CATGTCTTGCACCGCAAATTGGTAAGAATCCCCACGCGTGCGCGTGGCGCCTGGCCTACT', 'AGGCGTATCGGTAATCGGTAACAACCCCCCCTCTAAGCAATTCTTGACGGGCTATGAGCC', 'CTAGATTTAACTGCGCAGTATGTCAGCTCAGTTATTCTCCTCGTGAGTTCAATACAACAT', 'GTCTGGAACACAAGTACGAGTACGGGCCGAAGGATTGAGTCGTCAGAGTTAACAGAGCGC', 'CTCCAACCTTTCGATTCTTTCCGCGGTGTCAGTCGTACCCGGTGATT']\n"
     ]
    }
   ],
   "source": [
    "print(temp)"
   ]
  },
  {
   "cell_type": "code",
   "execution_count": 32,
   "id": "437f7dd8",
   "metadata": {},
   "outputs": [],
   "source": [
    "temp_dict = FASTA_to_dict(\"test_data/rosalind_gc.txt\")"
   ]
  },
  {
   "cell_type": "code",
   "execution_count": 33,
   "id": "adf127d4",
   "metadata": {},
   "outputs": [],
   "source": [
    "def GC_dict(FASTAdict):\n",
    "    \"\"\"Returns a dictionary with rounded GC content for each sequence in FASTAdict\"\"\"\n",
    "    temp = {\n",
    "        key: (gc_content(value)) for (key, value) in FASTAdict.items()\n",
    "        } #substitute DNA sequence from FASTAdict with GC content, FASTAdict.items() returns a list of tuples (key, value) for each item in the dictionary, key: FASTAlabel, value: DNA sequence\n",
    "    return temp"
   ]
  },
  {
   "cell_type": "code",
   "execution_count": 34,
   "id": "bfee91b5",
   "metadata": {},
   "outputs": [],
   "source": [
    "def GC_dict_subseq(FASTAdict, k=20):\n",
    "    return {\n",
    "        header: gc_content_subseq(seq, k)\n",
    "        for header, seq in FASTAdict.items()\n",
    "    }"
   ]
  },
  {
   "cell_type": "code",
   "execution_count": 35,
   "id": "9905fea4",
   "metadata": {},
   "outputs": [
    {
     "data": {
      "text/plain": [
       "{'>Rosalind_2302': '49.12%',\n",
       " '>Rosalind_1717': '49.05%',\n",
       " '>Rosalind_5518': '48.24%',\n",
       " '>Rosalind_8629': '49.60%',\n",
       " '>Rosalind_6449': '52.09%',\n",
       " '>Rosalind_9654': '51.14%',\n",
       " '>Rosalind_5068': '49.82%'}"
      ]
     },
     "execution_count": 35,
     "metadata": {},
     "output_type": "execute_result"
    }
   ],
   "source": [
    "GC_dict(temp_dict)"
   ]
  },
  {
   "cell_type": "code",
   "execution_count": 36,
   "id": "806e7d62",
   "metadata": {},
   "outputs": [],
   "source": [
    "def gc_content(dna_seq):\n",
    "    \"\"\"GC content (.2 decimals) in a DNA/RNA sequence\"\"\"\n",
    "    gc_count = dna_seq.count('C') + dna_seq.count('G')\n",
    "    pct = gc_count / len(dna_seq) * 100\n",
    "    return f'{pct:.2f}%'\n",
    "                 #round -> rounds number, count -> counts amount of how much a defined variable is in the string, len -> counts lenght of new string (G+C) *100 makes percentage\n",
    "                #function has to be inside {} for f string. characters (like%) outside. All has to between f'..'\n",
    "                #:.2f - > : starts format specification, .2 means two digits, f means fixed-point notation\n"
   ]
  },
  {
   "cell_type": "code",
   "execution_count": 41,
   "id": "227dce23",
   "metadata": {},
   "outputs": [],
   "source": [
    "def gc_content_subseq(dna_seq, k=20):\n",
    "    \"\"\"\n",
    "    Return a list of GC% strings for each non-overlapping k-mer.\n",
    "    \"\"\"\n",
    "    #return [....] creates list\n",
    "    #[expression for variable in iterable]\n",
    "    return [\n",
    "        gc_content(dna_seq[i : i + k]) #dna_seq[start : end], When there are no more i values in the range, the loop ends.\n",
    "        for i in range(0, len(dna_seq) - k + 1, k) #range(start, stop, step)\n",
    "        # range start=0, stop=len(dna_seq)-k+1 ensures full windows only, step=k, +1 is needed because python excludes stop index \n",
    "        #len(dna_seq) - k is the highest starting index that still leaves k-amount characters to slice.\n",
    "    ]"
   ]
  },
  {
   "cell_type": "code",
   "execution_count": 47,
   "id": "ecf593fa",
   "metadata": {},
   "outputs": [
    {
     "ename": "TypeError",
     "evalue": "sequence item 0: expected str instance, tuple found",
     "output_type": "error",
     "traceback": [
      "\u001b[31m---------------------------------------------------------------------------\u001b[39m",
      "\u001b[31mTypeError\u001b[39m                                 Traceback (most recent call last)",
      "\u001b[36mCell\u001b[39m\u001b[36m \u001b[39m\u001b[32mIn[47]\u001b[39m\u001b[32m, line 3\u001b[39m\n\u001b[32m      1\u001b[39m GC_dict_subseq(temp_dict,k=\u001b[32m100\u001b[39m)\n\u001b[32m----> \u001b[39m\u001b[32m3\u001b[39m \u001b[38;5;28mprint\u001b[39m(\u001b[33;43m\"\u001b[39;49m\u001b[33;43m \u001b[39;49m\u001b[33;43m\"\u001b[39;49m\u001b[43m.\u001b[49m\u001b[43mjoin\u001b[49m\u001b[43m(\u001b[49m\u001b[43mGC_dict_subseq\u001b[49m\u001b[43m(\u001b[49m\u001b[43mtemp_dict\u001b[49m\u001b[43m,\u001b[49m\u001b[43mk\u001b[49m\u001b[43m=\u001b[49m\u001b[32;43m100\u001b[39;49m\u001b[43m)\u001b[49m\u001b[43m.\u001b[49m\u001b[43mitems\u001b[49m\u001b[43m(\u001b[49m\u001b[43m)\u001b[49m\u001b[43m)\u001b[49m)\n",
      "\u001b[31mTypeError\u001b[39m: sequence item 0: expected str instance, tuple found"
     ]
    }
   ],
   "source": [
    "GC_dict_subseq(temp_dict,k=100)\n",
    "\n",
    "print(\" \".join(GC_dict_subseq(temp_dict,k=100).items()))"
   ]
  },
  {
   "cell_type": "code",
   "execution_count": null,
   "id": "c9f2c11b",
   "metadata": {},
   "outputs": [],
   "source": [
    "seq = \"AGCTAGCTAGCTAGCTAGCTAGCTAGCCGTACTAGCTCCCCCCCCCCCCCCGGGGCGAGTCGTATGCTACGCATGCATGACGGGGGGGGGGGGGGGATCGTAGCTAGCTAGCTAGCTAGCT\"\n",
    "gc_content(seq)"
   ]
  },
  {
   "cell_type": "code",
   "execution_count": null,
   "id": "4604c5de",
   "metadata": {},
   "outputs": [],
   "source": [
    "def gc_content(dna_seq):\n",
    "    \"\"\"GC content (.2 decimals) in a DNA/RNA sequence\"\"\"\n",
    "    gc_count = dna_seq.count('C') + dna_seq.count('G')\n",
    "    pct = gc_count / len(dna_seq) * 100\n",
    "    return f'{pct:.2f}%'"
   ]
  },
  {
   "cell_type": "code",
   "execution_count": null,
   "id": "da1e5a0d",
   "metadata": {},
   "outputs": [],
   "source": [
    "gc_content('ACTAGCATGACTGCATGACTGACTCAG')"
   ]
  },
  {
   "cell_type": "code",
   "execution_count": null,
   "id": "84774879",
   "metadata": {},
   "outputs": [],
   "source": [
    "gc_content_subsec(dna_seq, k=10)"
   ]
  },
  {
   "cell_type": "code",
   "execution_count": null,
   "id": "206396ca",
   "metadata": {},
   "outputs": [],
   "source": []
  }
 ],
 "metadata": {
  "kernelspec": {
   "display_name": "Python 3",
   "language": "python",
   "name": "python3"
  },
  "language_info": {
   "codemirror_mode": {
    "name": "ipython",
    "version": 3
   },
   "file_extension": ".py",
   "mimetype": "text/x-python",
   "name": "python",
   "nbconvert_exporter": "python",
   "pygments_lexer": "ipython3",
   "version": "3.13.5"
  }
 },
 "nbformat": 4,
 "nbformat_minor": 5
}
