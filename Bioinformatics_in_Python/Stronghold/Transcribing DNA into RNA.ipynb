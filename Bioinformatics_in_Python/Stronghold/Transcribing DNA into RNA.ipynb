{
 "cells": [
  {
   "cell_type": "code",
   "execution_count": 2,
   "id": "de110cb7-b45c-4e84-a818-ecbc4b1a5808",
   "metadata": {},
   "outputs": [],
   "source": [
    "dna_seq = \"GATGGAACTTGACTACGTAAATT\""
   ]
  },
  {
   "cell_type": "code",
   "execution_count": 6,
   "id": "33381f0e-3511-44e7-8ec1-16390bd18b49",
   "metadata": {},
   "outputs": [
    {
     "name": "stdout",
     "output_type": "stream",
     "text": [
      "GAUGGAACUUGACUACGUAAAUU\n"
     ]
    }
   ],
   "source": [
    "def transcription(dna_seq):\n",
    "    return dna_seq.replace(\"T\",\"U\") #here the string is returned in RNA seq, .replace replaces the T's with U's \n",
    "\n",
    "rna_seq = transcription(dna_seq)\n",
    "print(rna_seq)"
   ]
  },
  {
   "cell_type": "code",
   "execution_count": null,
   "id": "db40a314-e92b-4017-9d9d-8f2dff426dcb",
   "metadata": {},
   "outputs": [],
   "source": []
  }
 ],
 "metadata": {
  "kernelspec": {
   "display_name": "Python 3 (ipykernel)",
   "language": "python",
   "name": "python3"
  },
  "language_info": {
   "codemirror_mode": {
    "name": "ipython",
    "version": 3
   },
   "file_extension": ".py",
   "mimetype": "text/x-python",
   "name": "python",
   "nbconvert_exporter": "python",
   "pygments_lexer": "ipython3",
   "version": "3.13.5"
  }
 },
 "nbformat": 4,
 "nbformat_minor": 5
}
