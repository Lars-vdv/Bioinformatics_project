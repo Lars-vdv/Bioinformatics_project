{
 "cells": [
  {
   "cell_type": "code",
   "execution_count": 1,
   "id": "1877150e-1ccc-40ff-aa8b-a62d80025537",
   "metadata": {},
   "outputs": [
    {
     "name": "stdout",
     "output_type": "stream",
     "text": [
      "{'>Rosalind_6404': 'CCTGCGGAAGATCGGCACTAGAATAGCCAGAACCGTTTCTCTGAGGCTTCCGGCCTTCCCTCCCACTAATAATTCTGAGG', '>Rosalind_5959': 'CCATCGGTAGCGCATCCTTAGTCCAATTAAGTCCCTATCCAGGCGCTCCGCCGAAGGTCTATATCCATTTGTCAGCAGACACGC', '>Rosalind_0808': 'CCACCCTCGTGGTATGGCTAGGCATTCAGGAACCGGAGAACGCTTCAGACCAGCCCGGACTGGGAACCTGCGGGCAGTAGGTGGAAT'}\n"
     ]
    }
   ],
   "source": [
    "from utilities import *\n",
    "\n",
    "from IPython.display import display, HTML\n",
    "\n",
    "from structures import * # * -> import all\n"
   ]
  },
  {
   "cell_type": "code",
   "execution_count": 2,
   "id": "62551aa8-ac41-47bd-9151-16599744ef35",
   "metadata": {},
   "outputs": [],
   "source": [
    "dna_seq = \"ATCGATCGTTACCAGGGCCCCcgatcgatcgattcagcaatacccggggcatacgactagctagcgagCTAGCGTAGCATGACTGACTGATCG\""
   ]
  },
  {
   "cell_type": "code",
   "execution_count": 3,
   "id": "bb3f2a8f-a098-4856-8c6f-f7870b5a5d47",
   "metadata": {
    "editable": true,
    "slideshow": {
     "slide_type": ""
    },
    "tags": []
   },
   "outputs": [
    {
     "name": "stdout",
     "output_type": "stream",
     "text": [
      "ATCGATCGTTACCAGGGCCCCCGATCGATCGATTCAGCAATACCCGGGGCATACGACTAGCTAGCGAGCTAGCGTAGCATGACTGACTGATCG\n"
     ]
    }
   ],
   "source": [
    "# DNA toolset/code testing file\n",
    "def validateSeq(dna_seq): # def defines a function, in this case validateSeq\n",
    "    \"\"\"\"Validate if sequence is DNA sequence\"\"\"\n",
    "    tmpseq = dna_seq.upper() # create temporary sequence file, .upper makes everything uppercase\n",
    "    for nuc in tmpseq:  #nuc is created here, it loops througyh every character and names it nuc, which you can use as 'x'\n",
    "        if nuc not in nucleotides:\n",
    "            return False\n",
    "    return tmpseq\n",
    "\n",
    "dna_seq = validateSeq(dna_seq)\n",
    "print(dna_seq)"
   ]
  },
  {
   "cell_type": "code",
   "execution_count": 4,
   "id": "a82e5a45-7c8e-4de2-9b2f-28ff4daf1b7b",
   "metadata": {
    "editable": true,
    "slideshow": {
     "slide_type": ""
    },
    "tags": []
   },
   "outputs": [
    {
     "name": "stdout",
     "output_type": "stream",
     "text": [
      "\u001b[31mA\u001b[0m\u001b[0m:\u001b[0m\u001b[0m2\u001b[0m\u001b[0m3\u001b[0m\u001b[0m \u001b[0m\u001b[0m \u001b[0m\u001b[12mC\u001b[0m\u001b[0m:\u001b[0m\u001b[0m2\u001b[0m\u001b[0m7\u001b[0m\u001b[0m \u001b[0m\u001b[0m \u001b[0m\u001b[33mG\u001b[0m\u001b[0m:\u001b[0m\u001b[0m2\u001b[0m\u001b[0m5\u001b[0m\u001b[0m \u001b[0m\u001b[0m \u001b[0m\u001b[32mT\u001b[0m\u001b[0m:\u001b[0m\u001b[0m1\u001b[0m\u001b[0m8\u001b[0m\n"
     ]
    }
   ],
   "source": [
    "# Count nucleotide frequency\n",
    "def countNucFrequency(dna_seq):\n",
    "    \"\"\"\"Count frequency of each nucleotide\"\"\"\n",
    "    tmpFreqDict = {\"A\": 0, \"C\": 0, \"G\": 0, \"T\": 0} #{} create temporary dictonary\n",
    "    for nuc in dna_seq:\n",
    "        tmpFreqDict[nuc] += 1 #For every nucleotide counted add +1, nuc is added to dictonary value because it is the only value in the dictonary\n",
    "    return \"  \".join(f\"{nuc}:{tmpFreqDict[nuc]}\" for nuc in \"ACGT\")\n",
    "\n",
    "print(f\"{colored(countNucFrequency(dna_seq))}\")#in color, remove color for normal\n",
    "###print(*map(dna_seq.count, \"ACGT\")) #also works"
   ]
  },
  {
   "cell_type": "code",
   "execution_count": 5,
   "id": "7e7bf3ac-3780-46a6-844a-a625a30e302f",
   "metadata": {
    "editable": true,
    "jupyter": {
     "source_hidden": true
    },
    "slideshow": {
     "slide_type": ""
    },
    "tags": []
   },
   "outputs": [
    {
     "name": "stdout",
     "output_type": "stream",
     "text": [
      "AUCGAUCGUUACCAGGGCCCCCGAUCGAUCGAUUCAGCAAUACCCGGGGCAUACGACUAGCUAGCGAGCUAGCGUAGCAUGACUGACUGAUCG\n"
     ]
    }
   ],
   "source": [
    "# DNA -> RNA\n",
    "#make reverse complement of DNA string: DNA to RNA transcription\n",
    "def transcription(dna_seq):\n",
    "    \"\"\"\"Transcribes default DNA string to RNA\"\"\"\n",
    "    return dna_seq.replace(\"T\",\"U\") #here the string is returned in RNA seq, .replace replaces the T's with U's \n",
    "\n",
    "rna_seq = transcription(dna_seq)\n",
    "print(rna_seq)"
   ]
  },
  {
   "cell_type": "code",
   "execution_count": 6,
   "id": "3e891177-f912-43e6-89c0-8f5d0d838ccc",
   "metadata": {
    "jupyter": {
     "source_hidden": true
    }
   },
   "outputs": [
    {
     "name": "stdout",
     "output_type": "stream",
     "text": [
      "TAGCTAGCAATGGTCCCGGGGGCTAGCTAGCTAAGTCGTTATGGGCCCCGTATGCTGATCGATCGCTCGATCGCATCGTACTGACTGACTAGC\n"
     ]
    }
   ],
   "source": [
    "# NOT REVERSE Complement for DNA string \n",
    "def complement(dna_seq):\n",
    "    \"\"\"\"Creates complement of default DNA string\"\"\"\n",
    "    return ''.join([reverse_dna_seq[nuc] for nuc in dna_seq]) # [reverse..][nuc] swaps the letter for every nuc in dna_seq (so every letter) as defined in reverse_dna_seq dict\n",
    "    \n",
    "print(complement(dna_seq))"
   ]
  },
  {
   "cell_type": "code",
   "execution_count": 7,
   "id": "7acc99b8-ec34-442b-b2d5-7a190b56650e",
   "metadata": {
    "jupyter": {
     "source_hidden": true
    }
   },
   "outputs": [
    {
     "name": "stdout",
     "output_type": "stream",
     "text": [
      "CGATCAGTCAGTCATGCTACGCTAGCTCGCTAGCTAGTCGTATGCCCCGGGTATTGCTGAATCGATCGATCGGGGGCCCTGGTAACGATCGAT\n"
     ]
    }
   ],
   "source": [
    "# Reverse complement for DNA string \n",
    "def reverse_complement(dna_seq):\n",
    "    \"\"\"\"Creates reverse complement of default DNA string\"\"\"\n",
    "    return ''.join([reverse_dna_seq[nuc] for nuc in dna_seq])[::-1] #[::-1] reverses the string, [reverse..][nuc] swaps the letter for every nuc in dna_seq (so every letter) as defined in reverse_dna_seq dict\n",
    "    \n",
    "print(reverse_complement(dna_seq))"
   ]
  },
  {
   "cell_type": "code",
   "execution_count": 8,
   "id": "d9d38308",
   "metadata": {},
   "outputs": [
    {
     "name": "stdout",
     "output_type": "stream",
     "text": [
      "CGATCAGTCAGTCATGCTACGCTAGCTCGCTAGCTAGTCGTATGCCCCGGGTATTGCTGAATCGATCGATCGGGGGCCCTGGTAACGATCGAT\n"
     ]
    }
   ],
   "source": [
    "def reverse_complement(dna_seq):\n",
    "    \"\"\"\"Creates reverse complement of default DNA string\"\"\"\n",
    "    return ''.join([reverse_dna_seq[nuc] for nuc in dna_seq])[::-1]  # swaps and then reverses\n",
    "\n",
    "print(reverse_complement(dna_seq))"
   ]
  },
  {
   "cell_type": "code",
   "execution_count": 9,
   "id": "698d9c8a-0bf1-478c-9ba1-3201ebe95295",
   "metadata": {},
   "outputs": [
    {
     "name": "stdout",
     "output_type": "stream",
     "text": [
      "DNA sequence: ATCGATCGTTACCAGGGCCCCCGATCGATCGATTCAGCAATACCCGGGGCATACGACTAGCTAGCGAGCTAGCGTAGCATGACTGACTGATCG\n",
      "\n",
      "Complement DNA sequence: TAGCTAGCAATGGTCCCGGGGGCTAGCTAGCTAAGTCGTTATGGGCCCCGTATGCTGATCGATCGCTCGATCGCATCGTACTGACTGACTAGC\n",
      "\n",
      "Reverse complement DNA sequence: CGATCAGTCAGTCATGCTACGCTAGCTCGCTAGCTAGTCGTATGCCCCGGGTATTGCTGAATCGATCGATCGGGGGCCCTGGTAACGATCGAT\n",
      "\n",
      "RNA transcript of DNA: GCUAGUCAGUCAGUACGAUGCGAUCGAGCGAUCGAUCAGCAUACGGGGCCCAUAACGACUUAGCUAGCUAGCCCCCGGGACCAUUGCUAGCUA\n",
      "\n",
      "RNA transcript of complement DNA: AUCGAUCGUUACCAGGGCCCCCGAUCGAUCGAUUCAGCAAUACCCGGGGCAUACGACUAGCUAGCGAGCUAGCGUAGCAUGACUGACUGAUCG\n",
      "\n"
     ]
    }
   ],
   "source": [
    "#Print all sequences and transcript\n",
    "def print_all_seq(dna_seq):\n",
    "    \"\"\"\"Prints all DNA and RNA string versions\"\"\"\n",
    "    print(f\"DNA sequence: {dna_seq}\\n\\n\"\n",
    "      f\"Complement DNA sequence: {complement(dna_seq)}\\n\\n\"\n",
    "      f\"Reverse complement DNA sequence: {reverse_complement(dna_seq)}\\n\\n\"\n",
    "      f\"RNA transcript of DNA: {rna_seq[::-1]}\\n\\n\"\n",
    "      f\"RNA transcript of complement DNA: {rna_seq}\\n\")\n",
    "\n",
    "print_all_seq(dna_seq)"
   ]
  },
  {
   "cell_type": "code",
   "execution_count": 10,
   "id": "dd046fce-3d7f-49b6-af24-9406446dd082",
   "metadata": {},
   "outputs": [
    {
     "name": "stdout",
     "output_type": "stream",
     "text": [
      "DNA sequence: \u001b[31mA\u001b[0m\u001b[32mT\u001b[0m\u001b[12mC\u001b[0m\u001b[33mG\u001b[0m\u001b[31mA\u001b[0m\u001b[32mT\u001b[0m\u001b[12mC\u001b[0m\u001b[33mG\u001b[0m\u001b[32mT\u001b[0m\u001b[32mT\u001b[0m\u001b[31mA\u001b[0m\u001b[12mC\u001b[0m\u001b[12mC\u001b[0m\u001b[31mA\u001b[0m\u001b[33mG\u001b[0m\u001b[33mG\u001b[0m\u001b[33mG\u001b[0m\u001b[12mC\u001b[0m\u001b[12mC\u001b[0m\u001b[12mC\u001b[0m\u001b[12mC\u001b[0m\u001b[12mC\u001b[0m\u001b[33mG\u001b[0m\u001b[31mA\u001b[0m\u001b[32mT\u001b[0m\u001b[12mC\u001b[0m\u001b[33mG\u001b[0m\u001b[31mA\u001b[0m\u001b[32mT\u001b[0m\u001b[12mC\u001b[0m\u001b[33mG\u001b[0m\u001b[31mA\u001b[0m\u001b[32mT\u001b[0m\u001b[32mT\u001b[0m\u001b[12mC\u001b[0m\u001b[31mA\u001b[0m\u001b[33mG\u001b[0m\u001b[12mC\u001b[0m\u001b[31mA\u001b[0m\u001b[31mA\u001b[0m\u001b[32mT\u001b[0m\u001b[31mA\u001b[0m\u001b[12mC\u001b[0m\u001b[12mC\u001b[0m\u001b[12mC\u001b[0m\u001b[33mG\u001b[0m\u001b[33mG\u001b[0m\u001b[33mG\u001b[0m\u001b[33mG\u001b[0m\u001b[12mC\u001b[0m\u001b[31mA\u001b[0m\u001b[32mT\u001b[0m\u001b[31mA\u001b[0m\u001b[12mC\u001b[0m\u001b[33mG\u001b[0m\u001b[31mA\u001b[0m\u001b[12mC\u001b[0m\u001b[32mT\u001b[0m\u001b[31mA\u001b[0m\u001b[33mG\u001b[0m\u001b[12mC\u001b[0m\u001b[32mT\u001b[0m\u001b[31mA\u001b[0m\u001b[33mG\u001b[0m\u001b[12mC\u001b[0m\u001b[33mG\u001b[0m\u001b[31mA\u001b[0m\u001b[33mG\u001b[0m\u001b[12mC\u001b[0m\u001b[32mT\u001b[0m\u001b[31mA\u001b[0m\u001b[33mG\u001b[0m\u001b[12mC\u001b[0m\u001b[33mG\u001b[0m\u001b[32mT\u001b[0m\u001b[31mA\u001b[0m\u001b[33mG\u001b[0m\u001b[12mC\u001b[0m\u001b[31mA\u001b[0m\u001b[32mT\u001b[0m\u001b[33mG\u001b[0m\u001b[31mA\u001b[0m\u001b[12mC\u001b[0m\u001b[32mT\u001b[0m\u001b[33mG\u001b[0m\u001b[31mA\u001b[0m\u001b[12mC\u001b[0m\u001b[32mT\u001b[0m\u001b[33mG\u001b[0m\u001b[31mA\u001b[0m\u001b[32mT\u001b[0m\u001b[12mC\u001b[0m\u001b[33mG\u001b[0m\n",
      "\n",
      "Complement DNA sequence: \u001b[32mT\u001b[0m\u001b[31mA\u001b[0m\u001b[33mG\u001b[0m\u001b[12mC\u001b[0m\u001b[32mT\u001b[0m\u001b[31mA\u001b[0m\u001b[33mG\u001b[0m\u001b[12mC\u001b[0m\u001b[31mA\u001b[0m\u001b[31mA\u001b[0m\u001b[32mT\u001b[0m\u001b[33mG\u001b[0m\u001b[33mG\u001b[0m\u001b[32mT\u001b[0m\u001b[12mC\u001b[0m\u001b[12mC\u001b[0m\u001b[12mC\u001b[0m\u001b[33mG\u001b[0m\u001b[33mG\u001b[0m\u001b[33mG\u001b[0m\u001b[33mG\u001b[0m\u001b[33mG\u001b[0m\u001b[12mC\u001b[0m\u001b[32mT\u001b[0m\u001b[31mA\u001b[0m\u001b[33mG\u001b[0m\u001b[12mC\u001b[0m\u001b[32mT\u001b[0m\u001b[31mA\u001b[0m\u001b[33mG\u001b[0m\u001b[12mC\u001b[0m\u001b[32mT\u001b[0m\u001b[31mA\u001b[0m\u001b[31mA\u001b[0m\u001b[33mG\u001b[0m\u001b[32mT\u001b[0m\u001b[12mC\u001b[0m\u001b[33mG\u001b[0m\u001b[32mT\u001b[0m\u001b[32mT\u001b[0m\u001b[31mA\u001b[0m\u001b[32mT\u001b[0m\u001b[33mG\u001b[0m\u001b[33mG\u001b[0m\u001b[33mG\u001b[0m\u001b[12mC\u001b[0m\u001b[12mC\u001b[0m\u001b[12mC\u001b[0m\u001b[12mC\u001b[0m\u001b[33mG\u001b[0m\u001b[32mT\u001b[0m\u001b[31mA\u001b[0m\u001b[32mT\u001b[0m\u001b[33mG\u001b[0m\u001b[12mC\u001b[0m\u001b[32mT\u001b[0m\u001b[33mG\u001b[0m\u001b[31mA\u001b[0m\u001b[32mT\u001b[0m\u001b[12mC\u001b[0m\u001b[33mG\u001b[0m\u001b[31mA\u001b[0m\u001b[32mT\u001b[0m\u001b[12mC\u001b[0m\u001b[33mG\u001b[0m\u001b[12mC\u001b[0m\u001b[32mT\u001b[0m\u001b[12mC\u001b[0m\u001b[33mG\u001b[0m\u001b[31mA\u001b[0m\u001b[32mT\u001b[0m\u001b[12mC\u001b[0m\u001b[33mG\u001b[0m\u001b[12mC\u001b[0m\u001b[31mA\u001b[0m\u001b[32mT\u001b[0m\u001b[12mC\u001b[0m\u001b[33mG\u001b[0m\u001b[32mT\u001b[0m\u001b[31mA\u001b[0m\u001b[12mC\u001b[0m\u001b[32mT\u001b[0m\u001b[33mG\u001b[0m\u001b[31mA\u001b[0m\u001b[12mC\u001b[0m\u001b[32mT\u001b[0m\u001b[33mG\u001b[0m\u001b[31mA\u001b[0m\u001b[12mC\u001b[0m\u001b[32mT\u001b[0m\u001b[31mA\u001b[0m\u001b[33mG\u001b[0m\u001b[12mC\u001b[0m\n",
      "\n",
      "Reverse complement DNA sequence: \u001b[12mC\u001b[0m\u001b[33mG\u001b[0m\u001b[31mA\u001b[0m\u001b[32mT\u001b[0m\u001b[12mC\u001b[0m\u001b[31mA\u001b[0m\u001b[33mG\u001b[0m\u001b[32mT\u001b[0m\u001b[12mC\u001b[0m\u001b[31mA\u001b[0m\u001b[33mG\u001b[0m\u001b[32mT\u001b[0m\u001b[12mC\u001b[0m\u001b[31mA\u001b[0m\u001b[32mT\u001b[0m\u001b[33mG\u001b[0m\u001b[12mC\u001b[0m\u001b[32mT\u001b[0m\u001b[31mA\u001b[0m\u001b[12mC\u001b[0m\u001b[33mG\u001b[0m\u001b[12mC\u001b[0m\u001b[32mT\u001b[0m\u001b[31mA\u001b[0m\u001b[33mG\u001b[0m\u001b[12mC\u001b[0m\u001b[32mT\u001b[0m\u001b[12mC\u001b[0m\u001b[33mG\u001b[0m\u001b[12mC\u001b[0m\u001b[32mT\u001b[0m\u001b[31mA\u001b[0m\u001b[33mG\u001b[0m\u001b[12mC\u001b[0m\u001b[32mT\u001b[0m\u001b[31mA\u001b[0m\u001b[33mG\u001b[0m\u001b[32mT\u001b[0m\u001b[12mC\u001b[0m\u001b[33mG\u001b[0m\u001b[32mT\u001b[0m\u001b[31mA\u001b[0m\u001b[32mT\u001b[0m\u001b[33mG\u001b[0m\u001b[12mC\u001b[0m\u001b[12mC\u001b[0m\u001b[12mC\u001b[0m\u001b[12mC\u001b[0m\u001b[33mG\u001b[0m\u001b[33mG\u001b[0m\u001b[33mG\u001b[0m\u001b[32mT\u001b[0m\u001b[31mA\u001b[0m\u001b[32mT\u001b[0m\u001b[32mT\u001b[0m\u001b[33mG\u001b[0m\u001b[12mC\u001b[0m\u001b[32mT\u001b[0m\u001b[33mG\u001b[0m\u001b[31mA\u001b[0m\u001b[31mA\u001b[0m\u001b[32mT\u001b[0m\u001b[12mC\u001b[0m\u001b[33mG\u001b[0m\u001b[31mA\u001b[0m\u001b[32mT\u001b[0m\u001b[12mC\u001b[0m\u001b[33mG\u001b[0m\u001b[31mA\u001b[0m\u001b[32mT\u001b[0m\u001b[12mC\u001b[0m\u001b[33mG\u001b[0m\u001b[33mG\u001b[0m\u001b[33mG\u001b[0m\u001b[33mG\u001b[0m\u001b[33mG\u001b[0m\u001b[12mC\u001b[0m\u001b[12mC\u001b[0m\u001b[12mC\u001b[0m\u001b[32mT\u001b[0m\u001b[33mG\u001b[0m\u001b[33mG\u001b[0m\u001b[32mT\u001b[0m\u001b[31mA\u001b[0m\u001b[31mA\u001b[0m\u001b[12mC\u001b[0m\u001b[33mG\u001b[0m\u001b[31mA\u001b[0m\u001b[32mT\u001b[0m\u001b[12mC\u001b[0m\u001b[33mG\u001b[0m\u001b[31mA\u001b[0m\u001b[32mT\u001b[0m\n",
      "\n",
      "RNA transcript of DNA: \u001b[33mG\u001b[0m\u001b[12mC\u001b[0m\u001b[35mU\u001b[0m\u001b[31mA\u001b[0m\u001b[33mG\u001b[0m\u001b[35mU\u001b[0m\u001b[12mC\u001b[0m\u001b[31mA\u001b[0m\u001b[33mG\u001b[0m\u001b[35mU\u001b[0m\u001b[12mC\u001b[0m\u001b[31mA\u001b[0m\u001b[33mG\u001b[0m\u001b[35mU\u001b[0m\u001b[31mA\u001b[0m\u001b[12mC\u001b[0m\u001b[33mG\u001b[0m\u001b[31mA\u001b[0m\u001b[35mU\u001b[0m\u001b[33mG\u001b[0m\u001b[12mC\u001b[0m\u001b[33mG\u001b[0m\u001b[31mA\u001b[0m\u001b[35mU\u001b[0m\u001b[12mC\u001b[0m\u001b[33mG\u001b[0m\u001b[31mA\u001b[0m\u001b[33mG\u001b[0m\u001b[12mC\u001b[0m\u001b[33mG\u001b[0m\u001b[31mA\u001b[0m\u001b[35mU\u001b[0m\u001b[12mC\u001b[0m\u001b[33mG\u001b[0m\u001b[31mA\u001b[0m\u001b[35mU\u001b[0m\u001b[12mC\u001b[0m\u001b[31mA\u001b[0m\u001b[33mG\u001b[0m\u001b[12mC\u001b[0m\u001b[31mA\u001b[0m\u001b[35mU\u001b[0m\u001b[31mA\u001b[0m\u001b[12mC\u001b[0m\u001b[33mG\u001b[0m\u001b[33mG\u001b[0m\u001b[33mG\u001b[0m\u001b[33mG\u001b[0m\u001b[12mC\u001b[0m\u001b[12mC\u001b[0m\u001b[12mC\u001b[0m\u001b[31mA\u001b[0m\u001b[35mU\u001b[0m\u001b[31mA\u001b[0m\u001b[31mA\u001b[0m\u001b[12mC\u001b[0m\u001b[33mG\u001b[0m\u001b[31mA\u001b[0m\u001b[12mC\u001b[0m\u001b[35mU\u001b[0m\u001b[35mU\u001b[0m\u001b[31mA\u001b[0m\u001b[33mG\u001b[0m\u001b[12mC\u001b[0m\u001b[35mU\u001b[0m\u001b[31mA\u001b[0m\u001b[33mG\u001b[0m\u001b[12mC\u001b[0m\u001b[35mU\u001b[0m\u001b[31mA\u001b[0m\u001b[33mG\u001b[0m\u001b[12mC\u001b[0m\u001b[12mC\u001b[0m\u001b[12mC\u001b[0m\u001b[12mC\u001b[0m\u001b[12mC\u001b[0m\u001b[33mG\u001b[0m\u001b[33mG\u001b[0m\u001b[33mG\u001b[0m\u001b[31mA\u001b[0m\u001b[12mC\u001b[0m\u001b[12mC\u001b[0m\u001b[31mA\u001b[0m\u001b[35mU\u001b[0m\u001b[35mU\u001b[0m\u001b[33mG\u001b[0m\u001b[12mC\u001b[0m\u001b[35mU\u001b[0m\u001b[31mA\u001b[0m\u001b[33mG\u001b[0m\u001b[12mC\u001b[0m\u001b[35mU\u001b[0m\u001b[31mA\u001b[0m\n",
      "\n",
      "RNA transcript of complement DNA: \u001b[31mA\u001b[0m\u001b[35mU\u001b[0m\u001b[12mC\u001b[0m\u001b[33mG\u001b[0m\u001b[31mA\u001b[0m\u001b[35mU\u001b[0m\u001b[12mC\u001b[0m\u001b[33mG\u001b[0m\u001b[35mU\u001b[0m\u001b[35mU\u001b[0m\u001b[31mA\u001b[0m\u001b[12mC\u001b[0m\u001b[12mC\u001b[0m\u001b[31mA\u001b[0m\u001b[33mG\u001b[0m\u001b[33mG\u001b[0m\u001b[33mG\u001b[0m\u001b[12mC\u001b[0m\u001b[12mC\u001b[0m\u001b[12mC\u001b[0m\u001b[12mC\u001b[0m\u001b[12mC\u001b[0m\u001b[33mG\u001b[0m\u001b[31mA\u001b[0m\u001b[35mU\u001b[0m\u001b[12mC\u001b[0m\u001b[33mG\u001b[0m\u001b[31mA\u001b[0m\u001b[35mU\u001b[0m\u001b[12mC\u001b[0m\u001b[33mG\u001b[0m\u001b[31mA\u001b[0m\u001b[35mU\u001b[0m\u001b[35mU\u001b[0m\u001b[12mC\u001b[0m\u001b[31mA\u001b[0m\u001b[33mG\u001b[0m\u001b[12mC\u001b[0m\u001b[31mA\u001b[0m\u001b[31mA\u001b[0m\u001b[35mU\u001b[0m\u001b[31mA\u001b[0m\u001b[12mC\u001b[0m\u001b[12mC\u001b[0m\u001b[12mC\u001b[0m\u001b[33mG\u001b[0m\u001b[33mG\u001b[0m\u001b[33mG\u001b[0m\u001b[33mG\u001b[0m\u001b[12mC\u001b[0m\u001b[31mA\u001b[0m\u001b[35mU\u001b[0m\u001b[31mA\u001b[0m\u001b[12mC\u001b[0m\u001b[33mG\u001b[0m\u001b[31mA\u001b[0m\u001b[12mC\u001b[0m\u001b[35mU\u001b[0m\u001b[31mA\u001b[0m\u001b[33mG\u001b[0m\u001b[12mC\u001b[0m\u001b[35mU\u001b[0m\u001b[31mA\u001b[0m\u001b[33mG\u001b[0m\u001b[12mC\u001b[0m\u001b[33mG\u001b[0m\u001b[31mA\u001b[0m\u001b[33mG\u001b[0m\u001b[12mC\u001b[0m\u001b[35mU\u001b[0m\u001b[31mA\u001b[0m\u001b[33mG\u001b[0m\u001b[12mC\u001b[0m\u001b[33mG\u001b[0m\u001b[35mU\u001b[0m\u001b[31mA\u001b[0m\u001b[33mG\u001b[0m\u001b[12mC\u001b[0m\u001b[31mA\u001b[0m\u001b[35mU\u001b[0m\u001b[33mG\u001b[0m\u001b[31mA\u001b[0m\u001b[12mC\u001b[0m\u001b[35mU\u001b[0m\u001b[33mG\u001b[0m\u001b[31mA\u001b[0m\u001b[12mC\u001b[0m\u001b[35mU\u001b[0m\u001b[33mG\u001b[0m\u001b[31mA\u001b[0m\u001b[35mU\u001b[0m\u001b[12mC\u001b[0m\u001b[33mG\u001b[0m\n",
      "\n",
      "\n"
     ]
    }
   ],
   "source": [
    "#Print all sequences and transcript in colors\n",
    "def print_all_seq_colored(dna_seq):\n",
    "    \"\"\"\"Prints all DNA and RNA string versions in colors\"\"\"\n",
    "    print(f\"DNA sequence: {colored(dna_seq)}\\n\\n\"\n",
    "      f\"Complement DNA sequence: {colored(complement(dna_seq))}\\n\\n\"\n",
    "      f\"Reverse complement DNA sequence: {colored(reverse_complement(dna_seq))}\\n\\n\"\n",
    "      f\"RNA transcript of DNA: {colored(rna_seq[::-1])}\\n\\n\"\n",
    "      f\"RNA transcript of complement DNA: {colored(rna_seq)}\\n\\n\")\n",
    "\n",
    "print_all_seq_colored(dna_seq)"
   ]
  },
  {
   "cell_type": "code",
   "execution_count": 11,
   "id": "085a7311-42c9-4000-b5b8-e72c4843e7a5",
   "metadata": {},
   "outputs": [],
   "source": [
    "#Calculate GC content in %\n",
    "def gc_content(seq):\n",
    "    \"\"\"GC content in a DNA/RNA sequence\"\"\"\n",
    "    return f'{round((seq.count('C') + seq.count('G')) / len(seq) * 100)}%'\n",
    "                 #round -> rounds number, count -> counts amount of how much a defined variable is in the string, len -> counts lenght of new string (G+C) *100 makes percentage\n",
    "                #function has to be inside {} for f string. characters (like%) outside. All has to between f'..'\n",
    "\n",
    "#gc_content(dna_seq)"
   ]
  },
  {
   "cell_type": "code",
   "execution_count": 38,
   "id": "e2fa2e45-b1e8-484d-a803-43d2b22bac8a",
   "metadata": {},
   "outputs": [
    {
     "data": {
      "text/plain": [
       "['40%', '80%', '60%', '40%', '80%', '40%', '60%', '50%', '50%']"
      ]
     },
     "execution_count": 38,
     "metadata": {},
     "output_type": "execute_result"
    }
   ],
   "source": [
    "def gc_content_subsec(seq, k=20):\n",
    "    \"\"\"\n",
    "    Return a list of GC% strings for each non-overlapping k-mer.\n",
    "    \"\"\"\n",
    "    #return [....] creates list\n",
    "    #[expression for variable in iterable]\n",
    "    return [\n",
    "        gc_content(seq[i : i + k]) #seq[start : end], When there are no more i values in the range, the loop ends.\n",
    "        for i in range(0, len(seq) - k + 1, k) #range(start, stop, step)\n",
    "        # range start=0, stop=len(seq)-k+1 ensures full windows only, step=k, +1 is needed because python excludes stop index \n",
    "        #len(seq) - k is the highest starting index that still leaves k-amount characters to slice.\n",
    "    ]\n",
    "\n",
    "gc_content_subsec(dna_seq,k=10)"
   ]
  },
  {
   "cell_type": "code",
   "execution_count": null,
   "id": "e467f56c-7ecd-4ca2-81fa-a880956d9ea8",
   "metadata": {},
   "outputs": [
    {
     "data": {
      "text/plain": [
       "'c:\\\\Users\\\\larsv\\\\OneDrive\\\\Documenten\\\\JupyterLab Notebooks\\\\Bioinformatics in Python'"
      ]
     },
     "execution_count": 10,
     "metadata": {},
     "output_type": "execute_result"
    }
   ],
   "source": [
    "pwd()"
   ]
  },
  {
   "cell_type": "code",
   "execution_count": null,
   "id": "9c4b5991",
   "metadata": {},
   "outputs": [],
   "source": []
  }
 ],
 "metadata": {
  "kernelspec": {
   "display_name": "Python 3 (ipykernel)",
   "language": "python",
   "name": "python3"
  },
  "language_info": {
   "codemirror_mode": {
    "name": "ipython",
    "version": 3
   },
   "file_extension": ".py",
   "mimetype": "text/x-python",
   "name": "python",
   "nbconvert_exporter": "python",
   "pygments_lexer": "ipython3",
   "version": "3.13.5"
  }
 },
 "nbformat": 4,
 "nbformat_minor": 5
}
