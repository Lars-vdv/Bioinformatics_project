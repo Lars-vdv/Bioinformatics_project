{
 "cells": [
  {
   "cell_type": "code",
   "execution_count": 11,
   "id": "96e25f60-5093-469e-88a7-935e48a5cbe4",
   "metadata": {},
   "outputs": [],
   "source": [
    "def colored(seq):\n",
    "    \"\"\" Change ATCG to a colored letter \"\"\"\n",
    "    colors = {\n",
    "    'A': '\\033[31m',  # red\n",
    "    'C': '\\033[12m',  # blue\n",
    "    'G': '\\033[33m',  # yellow\n",
    "    'T': '\\033[32m',  # green\n",
    "    'U': '\\033[35m',  # magenta\n",
    "    'reset': '\\033[0m'\n",
    "    }\n",
    "\n",
    "    result = \"\"\n",
    "    for nuc in seq:\n",
    "        color_code = colors.get(nuc, colors['reset'])\n",
    "        result += f\"{color_code}{nuc}{colors['reset']}\"\n",
    "    return result"
   ]
  },
  {
   "cell_type": "code",
   "execution_count": 12,
   "id": "60169aee-cd7a-4bfa-8d08-f7fb53516a61",
   "metadata": {},
   "outputs": [],
   "source": [
    "seq= \"ATCG\""
   ]
  },
  {
   "cell_type": "code",
   "execution_count": 13,
   "id": "9bc3f5f9-a168-40ae-8d92-373643e9dc72",
   "metadata": {},
   "outputs": [
    {
     "data": {
      "text/plain": [
       "'\\x1b[31mA\\x1b[0m\\x1b[32mT\\x1b[0m\\x1b[12mC\\x1b[0m\\x1b[33mG\\x1b[0m'"
      ]
     },
     "execution_count": 13,
     "metadata": {},
     "output_type": "execute_result"
    }
   ],
   "source": [
    "colored(seq)"
   ]
  },
  {
   "cell_type": "code",
   "execution_count": 10,
   "id": "5ff479a1-e1a6-41e0-99ba-13a8557f8053",
   "metadata": {},
   "outputs": [],
   "source": [
    "#Read data from a FASTA file and create list\n",
    "def read_file(file_path):\n",
    "    \"\"\"Reading a (FASTA) file and returning a list of lines\"\"\"\n",
    "    with open(file_path, 'r') as f: \n",
    "        # 'r' opens the file for reading. 'r', 'w' writing, truncating the file first 'x' create new file and open for writing 'a' open for writing, appending to the end of the file if it exists\n",
    "        # 'as f' assigns the open file object to f\n",
    "        return [l.strip() for l in f.readlines()]\n",
    "        # f.readlines() returns a list where each element is one line of the file, including the trailing newline \\n\n",
    "        #Iterates over each raw line l from f.readlines(), Calls l.strip(), which removes leading and trailing whitespace (including \\n)\n"
   ]
  },
  {
   "cell_type": "code",
   "execution_count": 23,
   "id": "fb7d568f-001c-47bf-83fb-2866edde740a",
   "metadata": {},
   "outputs": [
    {
     "name": "stdout",
     "output_type": "stream",
     "text": [
      "{'>Rosalind_6404': 'CCTGCGGAAGATCGGCACTAGAATAGCCAGAACCGTTTCTCTGAGGCTTCCGGCCTTCCCTCCCACTAATAATTCTGAGG', '>Rosalind_5959': 'CCATCGGTAGCGCATCCTTAGTCCAATTAAGTCCCTATCCAGGCGCTCCGCCGAAGGTCTATATCCATTTGTCAGCAGACACGC', '>Rosalind_0808': 'CCACCCTCGTGGTATGGCTAGGCATTCAGGAACCGGAGAACGCTTCAGACCAGCCCGGACTGGGAACCTGCGGGCAGTAGGTGGAAT'}\n"
     ]
    }
   ],
   "source": [
    "#assign file-list to variable\n",
    "FASTAfile = read_file(\"Stronghold/test_data/GC_content.txt\")\n",
    "\n",
    "#create dictonary\n",
    "FASTAdict = {}\n",
    "\n",
    "#String for holding current label\n",
    "FASTAlabel = \"\"\n",
    "\n",
    "#Converting FASTA/List file data into a dictionary\n",
    "for line in FASTAfile:\n",
    "    if '>' in line: #checks if line has > in it (name seq)\n",
    "        FASTAlabel = line #if yes, the label will be the line\"\n",
    "        FASTAdict[FASTAlabel] = \"\" #this will then be added as a KEY to the dictonary\n",
    "    else:\n",
    "        FASTAdict[FASTAlabel] += line #if not >, the lines with no > will be added to the key: FASTAlabel. += ensures all the lines following will be added to the same label\n",
    "\n",
    "print(FASTAdict)"
   ]
  },
  {
   "cell_type": "code",
   "execution_count": 28,
   "id": "fc64e92c-9556-4413-8580-2e8f0fb5c95c",
   "metadata": {},
   "outputs": [
    {
     "name": "stdout",
     "output_type": "stream",
     "text": [
      "NAME       SEQUENCE  \n"
     ]
    },
    {
     "ename": "ValueError",
     "evalue": "too many values to unpack (expected 2)",
     "output_type": "error",
     "traceback": [
      "\u001b[31m---------------------------------------------------------------------------\u001b[39m",
      "\u001b[31mValueError\u001b[39m                                Traceback (most recent call last)",
      "\u001b[36mCell\u001b[39m\u001b[36m \u001b[39m\u001b[32mIn[28]\u001b[39m\u001b[32m, line 5\u001b[39m\n\u001b[32m      3\u001b[39m \u001b[38;5;66;03m# print each data item.\u001b[39;00m\n\u001b[32m      4\u001b[39m \u001b[38;5;28;01mfor\u001b[39;00m key, value \u001b[38;5;129;01min\u001b[39;00m FASTAdict.items():\n\u001b[32m----> \u001b[39m\u001b[32m5\u001b[39m     name, sequence = value\n\u001b[32m      6\u001b[39m     \u001b[38;5;28mprint\u001b[39m(\u001b[33m\"\u001b[39m\u001b[38;5;132;01m{:<10}\u001b[39;00m\u001b[33m \u001b[39m\u001b[38;5;132;01m{:<10}\u001b[39;00m\u001b[33m\"\u001b[39m.format(name, sequence))\n",
      "\u001b[31mValueError\u001b[39m: too many values to unpack (expected 2)"
     ]
    }
   ],
   "source": [
    "print(\"{:<10} {:<10}\".format('NAME', 'SEQUENCE'))\n",
    "\n",
    "# print each data item.\n",
    "for key, value in FASTAdict.items():\n",
    "    name, sequence = value\n",
    "    print(\"{:<10} {:<10}\".format(name, sequence))"
   ]
  }
 ],
 "metadata": {
  "kernelspec": {
   "display_name": "Python 3 (ipykernel)",
   "language": "python",
   "name": "python3"
  },
  "language_info": {
   "codemirror_mode": {
    "name": "ipython",
    "version": 3
   },
   "file_extension": ".py",
   "mimetype": "text/x-python",
   "name": "python",
   "nbconvert_exporter": "python",
   "pygments_lexer": "ipython3",
   "version": "3.13.5"
  }
 },
 "nbformat": 4,
 "nbformat_minor": 5
}
