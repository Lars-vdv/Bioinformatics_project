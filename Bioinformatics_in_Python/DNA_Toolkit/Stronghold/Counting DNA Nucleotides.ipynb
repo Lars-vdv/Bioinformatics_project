{
 "cells": [
  {
   "cell_type": "code",
   "execution_count": 32,
   "id": "3d33f664-86fe-4bc6-a392-699bfeb48967",
   "metadata": {},
   "outputs": [
    {
     "name": "stdout",
     "output_type": "stream",
     "text": [
      "<class 'dict'>\n"
     ]
    }
   ],
   "source": [
    "dna_seq = \"TCATGAACTTTGCGTCTAAGTCCGACATAAGATTCCCACGACGTTTTTGTGATTGAGTGTATCCAGGAATCGTACTAAATGAGGAAGGGACCACATTGAGCTTCCAAACGGGTCCCTTCCCTAGCATCCCTCTCCTTGTACTCATCCCTCCCTTCTTTATCATTCACGGGCGGCCTAGTCTTCGAACGGGCTCGAAGGCACGGGAAGCCCAATCCGAACGCAGAAGCATAAAGGGAGACCGACACATTGTTTCAGGCAACCCAATTGGAGCCGCAATTGATCAGTTACCGTGCGGCAGGAATATACTACTTGTGCTTGATCCCTCAGTTCCATATAATATGATCTCGGTGGGCCTAGGAGCACTAAAGCGTATCTTTATGACCAAGAATCTAGCCACTTTCGCTCTTGACTGCACAAGGTGACGACTGGCTCCCGGGCTCTGGTGGCCCCAGGTTCTTCTGTGTTGGGTATAATCAATTTTCAGCCTGTGTATGACATATTTACCGCGCTGTTATCGGGGCTTATTTCACGCGCGTTCTCCAGTTCGGTAGTCCAAGCAGCTCAGTTGCAGACTTCTTAGCGTACTGACTGGTCTGTGTGTCATCATGGATCGGGAGACTCACACGAACCAGCTTAATGGTGTGCATTAGATTCTCTATCACCGAATCTCTGTTAGTGCACCTAATGGTCCGGATACAATTAAATAAACGTCTAACTACTAAATCTCGTCGCGGACAACGACCCCCGTAGAGGCCGATGTGTCGTGTCAGATCCAACTGTCACAGTCTCGTCCCCGCTTGAGCCCTAGAAAGGGCAGGTTATCGGCGGAGCGTACTCCTGTCAGGGGCTCGTATGCTGATGGGCCTCGCATTGTTGACAATTCCAACCGCAGGTTGACGAGTGCGCCCACGTTCTACGACGTAATAGTCAAAGCGTCTTAGATGTCTGGTAAATTGACGG\"\n",
    "\n",
    "\n",
    "print(type(countNucFrequency(dna_seq)))"
   ]
  },
  {
   "cell_type": "code",
   "execution_count": 33,
   "id": "8cf8c8dc-5e60-4883-8dd4-bf01d9e3c7bb",
   "metadata": {},
   "outputs": [
    {
     "name": "stdout",
     "output_type": "stream",
     "text": [
      "TCATGAACTTTGCGTCTAAGTCCGACATAAGATTCCCACGACGTTTTTGTGATTGAGTGTATCCAGGAATCGTACTAAATGAGGAAGGGACCACATTGAGCTTCCAAACGGGTCCCTTCCCTAGCATCCCTCTCCTTGTACTCATCCCTCCCTTCTTTATCATTCACGGGCGGCCTAGTCTTCGAACGGGCTCGAAGGCACGGGAAGCCCAATCCGAACGCAGAAGCATAAAGGGAGACCGACACATTGTTTCAGGCAACCCAATTGGAGCCGCAATTGATCAGTTACCGTGCGGCAGGAATATACTACTTGTGCTTGATCCCTCAGTTCCATATAATATGATCTCGGTGGGCCTAGGAGCACTAAAGCGTATCTTTATGACCAAGAATCTAGCCACTTTCGCTCTTGACTGCACAAGGTGACGACTGGCTCCCGGGCTCTGGTGGCCCCAGGTTCTTCTGTGTTGGGTATAATCAATTTTCAGCCTGTGTATGACATATTTACCGCGCTGTTATCGGGGCTTATTTCACGCGCGTTCTCCAGTTCGGTAGTCCAAGCAGCTCAGTTGCAGACTTCTTAGCGTACTGACTGGTCTGTGTGTCATCATGGATCGGGAGACTCACACGAACCAGCTTAATGGTGTGCATTAGATTCTCTATCACCGAATCTCTGTTAGTGCACCTAATGGTCCGGATACAATTAAATAAACGTCTAACTACTAAATCTCGTCGCGGACAACGACCCCCGTAGAGGCCGATGTGTCGTGTCAGATCCAACTGTCACAGTCTCGTCCCCGCTTGAGCCCTAGAAAGGGCAGGTTATCGGCGGAGCGTACTCCTGTCAGGGGCTCGTATGCTGATGGGCCTCGCATTGTTGACAATTCCAACCGCAGGTTGACGAGTGCGCCCACGTTCTACGACGTAATAGTCAAAGCGTCTTAGATGTCTGGTAAATTGACGG\n",
      "{'A': 223, 'C': 250, 'G': 232, 'T': 255}\n",
      "223 250 232 255\n"
     ]
    }
   ],
   "source": [
    "# DNA toolset/code testing file\n",
    "\n",
    "nucleotides = [\"A\", \"C\", \"G\", \"T\"] #[] make list\n",
    "\n",
    "def validateSeq(dna_seq): # def defines a function, in this case validateSeq\n",
    "    tmpseq = dna_seq.upper() # create temporary sequence file, .upper makes everything uppercase\n",
    "    for nuc in tmpseq:\n",
    "        if nuc not in nucleotides:\n",
    "            return False\n",
    "    return tmpseq\n",
    "\n",
    "# Count nucleotide frequency\n",
    "def countNucFrequency(dna_seq):\n",
    "    tmpFreqDict = {\"A\": 0, \"C\": 0, \"G\": 0, \"T\": 0} #{} create temporary dictonary\n",
    "    for nuc in dna_seq:\n",
    "        tmpFreqDict[nuc] += 1 #For every nucleotide counted add +1, nuc is added to dictonary value because it is the only value in the dictonary\n",
    "    return tmpFreqDict\n",
    "\n",
    "print(validateSeq(dna_seq)) #print DNA string\n",
    "print((countNucFrequency(dna_seq))) #print nucleotide frequency\n",
    "\n",
    "result = countNucFrequency(dna_seq)\n",
    "\n",
    "print(' '.join([str(val) for key, val in result.items()])) \n",
    "# explanation ' ' adds a space, .join adds all string, (val)  is the value in the dictonary,\n"
   ]
  },
  {
   "cell_type": "code",
   "execution_count": 44,
   "id": "18447e8f-7fd1-4d81-97ad-af1f61dac2c5",
   "metadata": {},
   "outputs": [
    {
     "data": {
      "text/plain": [
       "<function __main__.qt(dna_seq)>"
      ]
     },
     "execution_count": 44,
     "metadata": {},
     "output_type": "execute_result"
    }
   ],
   "source": [
    "def qt(dna_seq):\n",
    "      return s.count(\"A\"), s.count(\"G\"), s.count(\"C\"), s.count(\"T\")\n",
    "\n",
    "qt"
   ]
  },
  {
   "cell_type": "code",
   "execution_count": 49,
   "id": "63957ff8-de0b-46bc-8b50-4d4c85d98595",
   "metadata": {},
   "outputs": [
    {
     "name": "stdout",
     "output_type": "stream",
     "text": [
      "223 250 232 255\n"
     ]
    }
   ],
   "source": [
    "print(*map(dna_seq.count, \"ACGT\"))"
   ]
  }
 ],
 "metadata": {
  "kernelspec": {
   "display_name": "Python 3 (ipykernel)",
   "language": "python",
   "name": "python3"
  },
  "language_info": {
   "codemirror_mode": {
    "name": "ipython",
    "version": 3
   },
   "file_extension": ".py",
   "mimetype": "text/x-python",
   "name": "python",
   "nbconvert_exporter": "python",
   "pygments_lexer": "ipython3",
   "version": "3.13.5"
  }
 },
 "nbformat": 4,
 "nbformat_minor": 5
}
