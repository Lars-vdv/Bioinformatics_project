{
 "cells": [
  {
   "cell_type": "code",
   "execution_count": null,
   "id": "5d64f3fa-f8b4-460d-b704-15c9cecb88a1",
   "metadata": {},
   "outputs": [],
   "source": [
    "# Reverse complement for DNA string \n",
    "def reverse_complement(dna_seq):\n",
    "    \"\"\"\"Creates reverse complement of default DNA string\"\"\"\n",
    "    return ''.join([reverse_dna_seq[nuc] for nuc in dna_seq])[::-1] #[::-1] reverses the string, [reverse..][nuc] swaps the letter for every nuc in dna_seq (so every letter) as defined in reverse_dna_seq dict\n",
    "    \n",
    "print(reverse_complement(dna_seq))"
   ]
  },
  {
   "cell_type": "code",
   "execution_count": null,
   "id": "9ae379ab-0a90-48b4-bf13-0eb3c920cfb5",
   "metadata": {},
   "outputs": [],
   "source": [
    "# NOT REVERSE Complement for DNA string \n",
    "def complement(dna_seq):\n",
    "    \"\"\"\"Creates complement of default DNA string\"\"\"\n",
    "    return ''.join([reverse_dna_seq[nuc] for nuc in dna_seq]) # [reverse..][nuc] swaps the letter for every nuc in dna_seq (so every letter) as defined in reverse_dna_seq dict\n",
    "    \n",
    "print(complement(dna_seq))"
   ]
  }
 ],
 "metadata": {
  "kernelspec": {
   "display_name": "Python 3 (ipykernel)",
   "language": "python",
   "name": "python3"
  },
  "language_info": {
   "codemirror_mode": {
    "name": "ipython",
    "version": 3
   },
   "file_extension": ".py",
   "mimetype": "text/x-python",
   "name": "python",
   "nbconvert_exporter": "python",
   "pygments_lexer": "ipython3",
   "version": "3.13.5"
  }
 },
 "nbformat": 4,
 "nbformat_minor": 5
}
